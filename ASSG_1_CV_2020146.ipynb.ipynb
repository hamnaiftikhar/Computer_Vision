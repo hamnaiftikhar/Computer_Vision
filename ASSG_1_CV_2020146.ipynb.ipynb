{
 "cells": [
  {
   "cell_type": "code",
   "execution_count": 113,
   "id": "4181f21c",
   "metadata": {},
   "outputs": [],
   "source": [
    "import numpy as np"
   ]
  },
  {
   "cell_type": "code",
   "execution_count": 114,
   "id": "1450807a",
   "metadata": {},
   "outputs": [],
   "source": [
    "def slerp_algorithm(p0, p1, t):\n",
    "    \n",
    "    # Calculate norms of both points i.e starting and ending points\n",
    "    p0_norm = np.linalg.norm(p0)\n",
    "    p1_norm = np.linalg.norm(p1)\n",
    "    \n",
    "    # Dot product\n",
    "    dot = np.dot(p0, p1)\n",
    "    \n",
    "    # Compute dot product in the range [-1, 1]\n",
    "    dot = max(-1, min(dot, 1))\n",
    "\n",
    "    # Compute the angle between the vectors\n",
    "    theta = np.arccos(dot / (p0_norm * p1_norm))\n",
    "    \n",
    "    # Compute the sin of the angle\n",
    "    sin_theta = np.sin(theta)\n",
    "    \n",
    "    # Check if sin_theta is close to zero\n",
    "    if abs(sin_theta) < 1e-10:\n",
    "        return q0\n",
    "    \n",
    "    # Compute the end result in the form of array\n",
    "    q2 = (np.sin((1 - t) * theta) / sin_theta) * (p0 / p0_norm) + (np.sin(t * theta) / sin_theta) * (p1 / p1_norm)\n",
    "    \n",
    "    return q2"
   ]
  },
  {
   "cell_type": "code",
   "execution_count": 115,
   "id": "ca8df3eb",
   "metadata": {},
   "outputs": [],
   "source": [
    "p0 = np.array([1, 2, 3])\n",
    "p1 = np.array([4, 5, 6])\n",
    "t = 0.7"
   ]
  },
  {
   "cell_type": "code",
   "execution_count": 116,
   "id": "423b486a",
   "metadata": {},
   "outputs": [
    {
     "data": {
      "text/plain": [
       "array([0.52104821, 0.74071637, 0.96038454])"
      ]
     },
     "execution_count": 116,
     "metadata": {},
     "output_type": "execute_result"
    }
   ],
   "source": [
    "slerp_algorithm(p0, p1, t)"
   ]
  },
  {
   "cell_type": "code",
   "execution_count": 117,
   "id": "0ba003d6",
   "metadata": {},
   "outputs": [],
   "source": [
    "p0 = np.array([9, 8, 3])\n",
    "p1 = np.array([7, 3, 2])\n",
    "t = 0.3"
   ]
  },
  {
   "cell_type": "code",
   "execution_count": 118,
   "id": "0f29e058",
   "metadata": {},
   "outputs": [
    {
     "data": {
      "text/plain": [
       "array([1.0450377 , 0.74424989, 0.32924185])"
      ]
     },
     "execution_count": 118,
     "metadata": {},
     "output_type": "execute_result"
    }
   ],
   "source": [
    "slerp_algorithm(p0, p1, t)"
   ]
  },
  {
   "cell_type": "code",
   "execution_count": null,
   "id": "c74c3104",
   "metadata": {},
   "outputs": [],
   "source": []
  }
 ],
 "metadata": {
  "kernelspec": {
   "display_name": "Python 3 (ipykernel)",
   "language": "python",
   "name": "python3"
  },
  "language_info": {
   "codemirror_mode": {
    "name": "ipython",
    "version": 3
   },
   "file_extension": ".py",
   "mimetype": "text/x-python",
   "name": "python",
   "nbconvert_exporter": "python",
   "pygments_lexer": "ipython3",
   "version": "3.8.12"
  }
 },
 "nbformat": 4,
 "nbformat_minor": 5
}
